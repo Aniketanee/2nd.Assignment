{
 "cells": [
  {
   "cell_type": "markdown",
   "id": "0cfba3fb-db19-410b-9081-2d078763845d",
   "metadata": {},
   "source": [
    "Assignment "
   ]
  },
  {
   "cell_type": "markdown",
   "id": "18459a5f-dbd5-43af-b337-4cb0e78dc62f",
   "metadata": {},
   "source": [
    "Question .1"
   ]
  },
  {
   "cell_type": "markdown",
   "id": "e1f0bbf4-721e-4077-a187-3b4851c2b8cb",
   "metadata": {},
   "source": [
    "We can add comments to your code using the '#' symbol.\n",
    "There are two types of comments - single-line comments and multi-line comments."
   ]
  },
  {
   "cell_type": "markdown",
   "id": "f2127107-850b-40a4-90c7-8399631290c3",
   "metadata": {},
   "source": [
    "Question .2"
   ]
  },
  {
   "cell_type": "markdown",
   "id": "d1bb91b6-9aec-4ffc-b363-05ccabba0b4e",
   "metadata": {},
   "source": [
    "In python different types to variables like integer , float , boolean , string . \n",
    "We declare "
   ]
  },
  {
   "cell_type": "code",
   "execution_count": 2,
   "id": "7a1a899f-2525-4697-95d8-0ea17d412adb",
   "metadata": {},
   "outputs": [
    {
     "name": "stdout",
     "output_type": "stream",
     "text": [
      "10\n",
      "20\n"
     ]
    }
   ],
   "source": [
    "# Assigning a value to a variable\n",
    "x = 10\n",
    "# Printing the value of the variable\n",
    "print(x)  # Output: 10\n",
    "# Modifying the value of the variable\n",
    "x = 20\n",
    "# Printing the updated value\n",
    "print(x)  # Output: 20\n"
   ]
  },
  {
   "cell_type": "markdown",
   "id": "2c4574f8-6924-49fa-946c-0b083889dcdc",
   "metadata": {},
   "source": [
    "Question .3"
   ]
  },
  {
   "cell_type": "markdown",
   "id": "d67708b2-d3d5-473e-b834-4279ca7b6f73",
   "metadata": {},
   "source": [
    "We can convert one data type to another using type conversion functions or by using the constructors of the target data type."
   ]
  },
  {
   "cell_type": "markdown",
   "id": "59515b58-7906-4ee0-96c0-566ca5a7b815",
   "metadata": {},
   "source": [
    "Question .4"
   ]
  },
  {
   "cell_type": "markdown",
   "id": "3591b1ad-e542-4cce-a10d-f02e367ed643",
   "metadata": {},
   "source": [
    "1.we can use any text editor you prefer, such as Notepad.\n",
    "2.Write the Python code in the text editor.\n",
    "3.Save the file with a \".py\" extension.\n",
    "4.Open the command prompt or terminal on your operating system.\n",
    "5.Navigate to the directory where you saved the Python script using the \"cd\" command.\n",
    "6.Execute the Python script by running the  command.\n",
    "7.Press Enter to run the command."
   ]
  },
  {
   "cell_type": "markdown",
   "id": "47df3ba8-6e17-4b91-896d-d7d21d5ff7b2",
   "metadata": {},
   "source": [
    "Question .5"
   ]
  },
  {
   "cell_type": "code",
   "execution_count": 4,
   "id": "77f877ed-1147-4678-90a2-4f3afb7a03df",
   "metadata": {},
   "outputs": [
    {
     "name": "stdout",
     "output_type": "stream",
     "text": [
      "[2, 3]\n"
     ]
    }
   ],
   "source": [
    "my_list = [1, 2, 3, 4, 5]\n",
    "sub_list = my_list[1:3]\n",
    "print(sub_list)\n"
   ]
  },
  {
   "cell_type": "markdown",
   "id": "3ec2da16-82f5-49df-9ef0-82257d80ca91",
   "metadata": {},
   "source": [
    "Question .6"
   ]
  },
  {
   "cell_type": "markdown",
   "id": "38f243f9-8a14-4c52-b3e2-6172b596a1f8",
   "metadata": {},
   "source": [
    "A complex number is a number that comprises both a real part and an imaginary part. The complex number represented by (3+7j)"
   ]
  },
  {
   "cell_type": "markdown",
   "id": "96403046-2183-42a9-b239-33ac7720852e",
   "metadata": {},
   "source": [
    "Question .7"
   ]
  },
  {
   "cell_type": "code",
   "execution_count": 5,
   "id": "9865f35e-8741-46cd-8506-8de7c596f780",
   "metadata": {},
   "outputs": [],
   "source": [
    "age = 25"
   ]
  },
  {
   "cell_type": "code",
   "execution_count": 6,
   "id": "e6329fef-cd4d-43af-84c6-1bbb3f5344d4",
   "metadata": {},
   "outputs": [
    {
     "data": {
      "text/plain": [
       "25"
      ]
     },
     "execution_count": 6,
     "metadata": {},
     "output_type": "execute_result"
    }
   ],
   "source": [
    "age"
   ]
  },
  {
   "cell_type": "markdown",
   "id": "cdf5b33a-e6b3-4b39-9d54-06114f741556",
   "metadata": {},
   "source": [
    "Question .8"
   ]
  },
  {
   "cell_type": "code",
   "execution_count": 7,
   "id": "80549217-af8e-4641-9dae-b660f653130a",
   "metadata": {},
   "outputs": [],
   "source": [
    "price = 9.99"
   ]
  },
  {
   "cell_type": "code",
   "execution_count": 8,
   "id": "5bb4a3aa-2198-42f9-9e6f-752678b4bf09",
   "metadata": {},
   "outputs": [
    {
     "data": {
      "text/plain": [
       "9.99"
      ]
     },
     "execution_count": 8,
     "metadata": {},
     "output_type": "execute_result"
    }
   ],
   "source": [
    "price"
   ]
  },
  {
   "cell_type": "code",
   "execution_count": 9,
   "id": "8a764ebb-e464-44d1-b737-4c28f76270d0",
   "metadata": {},
   "outputs": [
    {
     "data": {
      "text/plain": [
       "float"
      ]
     },
     "execution_count": 9,
     "metadata": {},
     "output_type": "execute_result"
    }
   ],
   "source": [
    "type(price)"
   ]
  },
  {
   "cell_type": "markdown",
   "id": "e4507a89-ae88-4714-859e-b4a3060eaaf4",
   "metadata": {},
   "source": [
    "Question .9"
   ]
  },
  {
   "cell_type": "code",
   "execution_count": 10,
   "id": "65817ae1-91f5-4b87-b26e-5281cb742193",
   "metadata": {},
   "outputs": [],
   "source": [
    "name = \"Aniket verma\""
   ]
  },
  {
   "cell_type": "code",
   "execution_count": 12,
   "id": "48a67058-add5-4d68-89a0-3cd03c94cc0b",
   "metadata": {},
   "outputs": [
    {
     "name": "stdout",
     "output_type": "stream",
     "text": [
      "Aniket verma\n"
     ]
    }
   ],
   "source": [
    "print (name)"
   ]
  },
  {
   "cell_type": "markdown",
   "id": "4073fe18-1119-407c-94cf-e2ff25fa5b52",
   "metadata": {},
   "source": [
    "Question .10"
   ]
  },
  {
   "cell_type": "code",
   "execution_count": 16,
   "id": "09b36d1b-9a1d-4a6d-a007-b14f20314486",
   "metadata": {},
   "outputs": [
    {
     "name": "stdout",
     "output_type": "stream",
     "text": [
      "world\n"
     ]
    }
   ],
   "source": [
    "my_string = \"hello, world !\"\n",
    "substring = my_string[7:12]\n",
    "print(substring)\n"
   ]
  },
  {
   "cell_type": "markdown",
   "id": "605bd619-c368-431f-a104-d8e3c7dc9072",
   "metadata": {},
   "source": [
    "Question .11"
   ]
  },
  {
   "cell_type": "code",
   "execution_count": 17,
   "id": "19424ac0-4434-4c06-b617-b25fbbdcfcda",
   "metadata": {},
   "outputs": [],
   "source": [
    "is_student = True  # Set to True if you are currently a student\n"
   ]
  },
  {
   "cell_type": "code",
   "execution_count": null,
   "id": "015c9f73-57d3-4caf-aa66-24c38abaa974",
   "metadata": {},
   "outputs": [],
   "source": []
  }
 ],
 "metadata": {
  "kernelspec": {
   "display_name": "Python 3 (ipykernel)",
   "language": "python",
   "name": "python3"
  },
  "language_info": {
   "codemirror_mode": {
    "name": "ipython",
    "version": 3
   },
   "file_extension": ".py",
   "mimetype": "text/x-python",
   "name": "python",
   "nbconvert_exporter": "python",
   "pygments_lexer": "ipython3",
   "version": "3.10.8"
  }
 },
 "nbformat": 4,
 "nbformat_minor": 5
}
